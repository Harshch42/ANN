{
  "nbformat": 4,
  "nbformat_minor": 0,
  "metadata": {
    "colab": {
      "provenance": []
    },
    "kernelspec": {
      "name": "python3",
      "display_name": "Python 3"
    },
    "language_info": {
      "name": "python"
    }
  },
  "cells": [
    {
      "cell_type": "markdown",
      "source": [
        "# **Digit Recognition Using ANN**"
      ],
      "metadata": {
        "id": "0WyaiFk2BpRd"
      }
    },
    {
      "cell_type": "markdown",
      "source": [
        "### Importing the Libraries"
      ],
      "metadata": {
        "id": "S_Gp3tSvBrSq"
      }
    },
    {
      "cell_type": "code",
      "execution_count": 28,
      "metadata": {
        "id": "JDxUo4MTwnFo"
      },
      "outputs": [],
      "source": [
        "import tensorflow as tf\n",
        "from tensorflow import keras\n",
        "from tensorflow.keras import Sequential\n",
        "from tensorflow.keras.layers import Dense, Flatten\n",
        "\n",
        "import matplotlib.pyplot as plt"
      ]
    },
    {
      "cell_type": "markdown",
      "source": [
        "### Importing the Dataset"
      ],
      "metadata": {
        "id": "bNruVWG_CKRb"
      }
    },
    {
      "cell_type": "code",
      "source": [
        "(X_train , y_train) , (X_test , y_test) = keras.datasets.mnist.load_data()"
      ],
      "metadata": {
        "id": "1LH1_D87xRWs"
      },
      "execution_count": 2,
      "outputs": []
    },
    {
      "cell_type": "code",
      "source": [
        "X_train[10,11]"
      ],
      "metadata": {
        "colab": {
          "base_uri": "https://localhost:8080/"
        },
        "id": "dmB42WMkz0R0",
        "outputId": "b5233881-001d-4d1f-c58a-1ae3f1264d4f"
      },
      "execution_count": 3,
      "outputs": [
        {
          "output_type": "execute_result",
          "data": {
            "text/plain": [
              "array([  0,   0,   0,   0,   0,   0,   0,   0,   0,   0,   0,   0,  91,\n",
              "       137, 253, 254, 254, 254, 112,   0,   0,   0,   0,   0,   0,   0,\n",
              "         0,   0], dtype=uint8)"
            ]
          },
          "metadata": {},
          "execution_count": 3
        }
      ]
    },
    {
      "cell_type": "code",
      "source": [
        "y_train"
      ],
      "metadata": {
        "colab": {
          "base_uri": "https://localhost:8080/"
        },
        "id": "NmYbd59Vz9uv",
        "outputId": "63ed4316-8da3-4dd7-fe84-2bb26e1a8fbd"
      },
      "execution_count": 4,
      "outputs": [
        {
          "output_type": "execute_result",
          "data": {
            "text/plain": [
              "array([5, 0, 4, ..., 5, 6, 8], dtype=uint8)"
            ]
          },
          "metadata": {},
          "execution_count": 4
        }
      ]
    },
    {
      "cell_type": "code",
      "source": [
        "X_train.shape"
      ],
      "metadata": {
        "colab": {
          "base_uri": "https://localhost:8080/"
        },
        "id": "LdYsHxHb0X9O",
        "outputId": "aef67dfe-e0d9-4e8e-e309-0976767b905d"
      },
      "execution_count": 5,
      "outputs": [
        {
          "output_type": "execute_result",
          "data": {
            "text/plain": [
              "(60000, 28, 28)"
            ]
          },
          "metadata": {},
          "execution_count": 5
        }
      ]
    },
    {
      "cell_type": "code",
      "source": [
        "y_train.shape"
      ],
      "metadata": {
        "colab": {
          "base_uri": "https://localhost:8080/"
        },
        "id": "od6xaUOu0ZPG",
        "outputId": "16f092ed-d18b-4e12-e861-ac223feba7ab"
      },
      "execution_count": 6,
      "outputs": [
        {
          "output_type": "execute_result",
          "data": {
            "text/plain": [
              "(60000,)"
            ]
          },
          "metadata": {},
          "execution_count": 6
        }
      ]
    },
    {
      "cell_type": "code",
      "source": [
        "plt.imshow(X_train[1])"
      ],
      "metadata": {
        "colab": {
          "base_uri": "https://localhost:8080/",
          "height": 282
        },
        "id": "ciTPLflc0gYP",
        "outputId": "89d78b45-9c71-48ba-9bfb-fc3040de138b"
      },
      "execution_count": 7,
      "outputs": [
        {
          "output_type": "execute_result",
          "data": {
            "text/plain": [
              "<matplotlib.image.AxesImage at 0x7facd9ad2eb0>"
            ]
          },
          "metadata": {},
          "execution_count": 7
        },
        {
          "output_type": "display_data",
          "data": {
            "text/plain": [
              "<Figure size 432x288 with 1 Axes>"
            ],
            "image/png": "[encoded data removed]"
          },
          "metadata": {
            "needs_background": "light"
          }
        }
      ]
    },
    {
      "cell_type": "markdown",
      "source": [
        "### Normalizing the data"
      ],
      "metadata": {
        "id": "Omwcx0RACQjy"
      }
    },
    {
      "cell_type": "code",
      "source": [
        "X_train = X_train / 255\n",
        "X_test = X_test / 255\n",
        "X_train[10,11]"
      ],
      "metadata": {
        "colab": {
          "base_uri": "https://localhost:8080/"
        },
        "id": "CAeR3nGD0lcD",
        "outputId": "0a8a5d56-8e8d-4cd9-f10f-3befc519fa09"
      },
      "execution_count": 8,
      "outputs": [
        {
          "output_type": "execute_result",
          "data": {
            "text/plain": [
              "array([0.        , 0.        , 0.        , 0.        , 0.        ,\n",
              "       0.        , 0.        , 0.        , 0.        , 0.        ,\n",
              "       0.        , 0.        , 0.35686275, 0.5372549 , 0.99215686,\n",
              "       0.99607843, 0.99607843, 0.99607843, 0.43921569, 0.        ,\n",
              "       0.        , 0.        , 0.        , 0.        , 0.        ,\n",
              "       0.        , 0.        , 0.        ])"
            ]
          },
          "metadata": {},
          "execution_count": 8
        }
      ]
    },
    {
      "cell_type": "markdown",
      "source": [
        "### Building The Model"
      ],
      "metadata": {
        "id": "szsAQv_K2k-v"
      }
    },
    {
      "cell_type": "code",
      "source": [
        "model = Sequential()\n",
        "\n",
        "model.add(Flatten(input_shape = (28 , 28)))\n",
        "model.add(Dense(128 ,activation = 'relu'))\n",
        "model.add(Dense(32 ,activation = 'relu'))\n",
        "model.add(Dense(10 ,activation = 'softmax'))"
      ],
      "metadata": {
        "id": "sdoL_IHf1Chu"
      },
      "execution_count": 9,
      "outputs": []
    },
    {
      "cell_type": "code",
      "source": [
        "model.summary()"
      ],
      "metadata": {
        "colab": {
          "base_uri": "https://localhost:8080/"
        },
        "id": "rTCyEzuu2_-w",
        "outputId": "890312b7-f999-4a48-8c2e-65904d818d73"
      },
      "execution_count": 10,
      "outputs": [
        {
          "output_type": "stream",
          "name": "stdout",
          "text": [
            "Model: \"sequential\"\n",
            "_________________________________________________________________\n",
            " Layer (type)                Output Shape              Param #   \n",
            "=================================================================\n",
            " flatten (Flatten)           (None, 784)               0         \n",
            "                                                                 \n",
            " dense (Dense)               (None, 128)               100480    \n",
            "                                                                 \n",
            " dense_1 (Dense)             (None, 32)                4128      \n",
            "                                                                 \n",
            " dense_2 (Dense)             (None, 10)                330       \n",
            "                                                                 \n",
            "=================================================================\n",
            "Total params: 104,938\n",
            "Trainable params: 104,938\n",
            "Non-trainable params: 0\n",
            "_________________________________________________________________\n"
          ]
        }
      ]
    },
    {
      "cell_type": "markdown",
      "source": [
        "### Configuring Parameters"
      ],
      "metadata": {
        "id": "jKol6J99CXUi"
      }
    },
    {
      "cell_type": "code",
      "source": [
        "model.compile(loss='sparse_categorical_crossentropy',optimizer='Adam',metrics=['accuracy'])"
      ],
      "metadata": {
        "id": "ZPNYZGPT4tCO"
      },
      "execution_count": 11,
      "outputs": []
    },
    {
      "cell_type": "markdown",
      "source": [
        "### Training the Model"
      ],
      "metadata": {
        "id": "SwXmDuhyCtAI"
      }
    },
    {
      "cell_type": "code",
      "source": [
        "model_fit = model.fit(X_train, y_train, epochs=32, validation_split= 0.2)"
      ],
      "metadata": {
        "colab": {
          "base_uri": "https://localhost:8080/"
        },
        "id": "9QFGSJAG7nkM",
        "outputId": "7495dc56-8b86-4ec2-de7e-253a7b1bd11f"
      },
      "execution_count": 12,
      "outputs": [
        {
          "output_type": "stream",
          "name": "stdout",
          "text": [
            "Epoch 1/32\n",
            "1500/1500 [==============================] - 12s 8ms/step - loss: 0.2764 - accuracy: 0.9204 - val_loss: 0.1523 - val_accuracy: 0.9535\n",
            "Epoch 2/32\n",
            "1500/1500 [==============================] - 13s 9ms/step - loss: 0.1156 - accuracy: 0.9656 - val_loss: 0.1128 - val_accuracy: 0.9649\n",
            "Epoch 3/32\n",
            "1500/1500 [==============================] - 12s 8ms/step - loss: 0.0786 - accuracy: 0.9753 - val_loss: 0.0954 - val_accuracy: 0.9724\n",
            "Epoch 4/32\n",
            "1500/1500 [==============================] - 6s 4ms/step - loss: 0.0618 - accuracy: 0.9808 - val_loss: 0.0956 - val_accuracy: 0.9719\n",
            "Epoch 5/32\n",
            "1500/1500 [==============================] - 7s 4ms/step - loss: 0.0453 - accuracy: 0.9858 - val_loss: 0.0916 - val_accuracy: 0.9744\n",
            "Epoch 6/32\n",
            "1500/1500 [==============================] - 5s 4ms/step - loss: 0.0399 - accuracy: 0.9874 - val_loss: 0.0856 - val_accuracy: 0.9765\n",
            "Epoch 7/32\n",
            "1500/1500 [==============================] - 7s 4ms/step - loss: 0.0316 - accuracy: 0.9894 - val_loss: 0.1109 - val_accuracy: 0.9743\n",
            "Epoch 8/32\n",
            "1500/1500 [==============================] - 5s 4ms/step - loss: 0.0255 - accuracy: 0.9920 - val_loss: 0.1034 - val_accuracy: 0.9762\n",
            "Epoch 9/32\n",
            "1500/1500 [==============================] - 6s 4ms/step - loss: 0.0239 - accuracy: 0.9921 - val_loss: 0.1047 - val_accuracy: 0.9759\n",
            "Epoch 10/32\n",
            "1500/1500 [==============================] - 6s 4ms/step - loss: 0.0184 - accuracy: 0.9940 - val_loss: 0.1059 - val_accuracy: 0.9753\n",
            "Epoch 11/32\n",
            "1500/1500 [==============================] - 5s 4ms/step - loss: 0.0179 - accuracy: 0.9938 - val_loss: 0.1170 - val_accuracy: 0.9757\n",
            "Epoch 12/32\n",
            "1500/1500 [==============================] - 7s 4ms/step - loss: 0.0152 - accuracy: 0.9951 - val_loss: 0.1109 - val_accuracy: 0.9765\n",
            "Epoch 13/32\n",
            "1500/1500 [==============================] - 5s 4ms/step - loss: 0.0149 - accuracy: 0.9952 - val_loss: 0.1193 - val_accuracy: 0.9753\n",
            "Epoch 14/32\n",
            "1500/1500 [==============================] - 6s 4ms/step - loss: 0.0138 - accuracy: 0.9955 - val_loss: 0.1182 - val_accuracy: 0.9764\n",
            "Epoch 15/32\n",
            "1500/1500 [==============================] - 5s 4ms/step - loss: 0.0122 - accuracy: 0.9959 - val_loss: 0.1146 - val_accuracy: 0.9758\n",
            "Epoch 16/32\n",
            "1500/1500 [==============================] - 7s 4ms/step - loss: 0.0114 - accuracy: 0.9959 - val_loss: 0.1230 - val_accuracy: 0.9761\n",
            "Epoch 17/32\n",
            "1500/1500 [==============================] - 6s 4ms/step - loss: 0.0112 - accuracy: 0.9965 - val_loss: 0.1329 - val_accuracy: 0.9768\n",
            "Epoch 18/32\n",
            "1500/1500 [==============================] - 7s 4ms/step - loss: 0.0098 - accuracy: 0.9968 - val_loss: 0.1364 - val_accuracy: 0.9758\n",
            "Epoch 19/32\n",
            "1500/1500 [==============================] - 6s 4ms/step - loss: 0.0098 - accuracy: 0.9968 - val_loss: 0.1517 - val_accuracy: 0.9745\n",
            "Epoch 20/32\n",
            "1500/1500 [==============================] - 6s 4ms/step - loss: 0.0072 - accuracy: 0.9972 - val_loss: 0.1361 - val_accuracy: 0.9758\n",
            "Epoch 21/32\n",
            "1500/1500 [==============================] - 5s 4ms/step - loss: 0.0096 - accuracy: 0.9968 - val_loss: 0.1535 - val_accuracy: 0.9758\n",
            "Epoch 22/32\n",
            "1500/1500 [==============================] - 7s 5ms/step - loss: 0.0090 - accuracy: 0.9971 - val_loss: 0.1553 - val_accuracy: 0.9742\n",
            "Epoch 23/32\n",
            "1500/1500 [==============================] - 5s 4ms/step - loss: 0.0093 - accuracy: 0.9970 - val_loss: 0.1944 - val_accuracy: 0.9729\n",
            "Epoch 24/32\n",
            "1500/1500 [==============================] - 6s 4ms/step - loss: 0.0078 - accuracy: 0.9973 - val_loss: 0.1696 - val_accuracy: 0.9720\n",
            "Epoch 25/32\n",
            "1500/1500 [==============================] - 6s 4ms/step - loss: 0.0079 - accuracy: 0.9977 - val_loss: 0.1372 - val_accuracy: 0.9773\n",
            "Epoch 26/32\n",
            "1500/1500 [==============================] - 5s 3ms/step - loss: 0.0078 - accuracy: 0.9974 - val_loss: 0.1559 - val_accuracy: 0.9767\n",
            "Epoch 27/32\n",
            "1500/1500 [==============================] - 7s 4ms/step - loss: 0.0077 - accuracy: 0.9979 - val_loss: 0.1634 - val_accuracy: 0.9770\n",
            "Epoch 28/32\n",
            "1500/1500 [==============================] - 5s 3ms/step - loss: 0.0068 - accuracy: 0.9978 - val_loss: 0.1573 - val_accuracy: 0.9779\n",
            "Epoch 29/32\n",
            "1500/1500 [==============================] - 7s 4ms/step - loss: 0.0055 - accuracy: 0.9983 - val_loss: 0.1946 - val_accuracy: 0.9758\n",
            "Epoch 30/32\n",
            "1500/1500 [==============================] - 6s 4ms/step - loss: 0.0086 - accuracy: 0.9971 - val_loss: 0.1816 - val_accuracy: 0.9768\n",
            "Epoch 31/32\n",
            "1500/1500 [==============================] - 11s 7ms/step - loss: 0.0076 - accuracy: 0.9975 - val_loss: 0.1587 - val_accuracy: 0.9780\n",
            "Epoch 32/32\n",
            "1500/1500 [==============================] - 7s 4ms/step - loss: 0.0049 - accuracy: 0.9987 - val_loss: 0.1736 - val_accuracy: 0.9783\n"
          ]
        }
      ]
    },
    {
      "cell_type": "markdown",
      "source": [
        "### Evaluating the Model & Plotting the Metrics"
      ],
      "metadata": {
        "id": "C_vpzFwuC7aV"
      }
    },
    {
      "cell_type": "code",
      "source": [
        "y_prob = model.predict(X_test)"
      ],
      "metadata": {
        "colab": {
          "base_uri": "https://localhost:8080/"
        },
        "id": "DzFCi9cW8YZ1",
        "outputId": "cc225da2-2d54-4974-be87-edc6aa6f395b"
      },
      "execution_count": 13,
      "outputs": [
        {
          "output_type": "stream",
          "name": "stdout",
          "text": [
            "313/313 [==============================] - 1s 2ms/step\n"
          ]
        }
      ]
    },
    {
      "cell_type": "code",
      "source": [
        "y_pred = y_prob.argmax(axis=1)"
      ],
      "metadata": {
        "id": "EE365ii1-auC"
      },
      "execution_count": 14,
      "outputs": []
    },
    {
      "cell_type": "code",
      "source": [
        "from sklearn.metrics import accuracy_score\n",
        "accuracy_score(y_test,y_pred)"
      ],
      "metadata": {
        "colab": {
          "base_uri": "https://localhost:8080/"
        },
        "id": "w3gV-sw8-h5n",
        "outputId": "998f6490-99ef-44ed-8472-5502d71aaeb8"
      },
      "execution_count": 17,
      "outputs": [
        {
          "output_type": "execute_result",
          "data": {
            "text/plain": [
              "0.9781"
            ]
          },
          "metadata": {},
          "execution_count": 17
        }
      ]
    },
    {
      "cell_type": "code",
      "source": [
        "plt.plot(model_fit.history['loss'])\n",
        "plt.plot(model_fit.history['val_loss'])"
      ],
      "metadata": {
        "colab": {
          "base_uri": "https://localhost:8080/",
          "height": 282
        },
        "id": "PgZ1X_ut-xvA",
        "outputId": "261390ae-ff5e-4825-ed4d-d24880dca465"
      },
      "execution_count": 20,
      "outputs": [
        {
          "output_type": "execute_result",
          "data": {
            "text/plain": [
              "[<matplotlib.lines.Line2D at 0x7faca64caa60>]"
            ]
          },
          "metadata": {},
          "execution_count": 20
        },
        {
          "output_type": "display_data",
          "data": {
            "text/plain": [
              "<Figure size 432x288 with 1 Axes>"
            ],
            "image/png": "[encoded data removed]"
          },
          "metadata": {
            "needs_background": "light"
          }
        }
      ]
    },
    {
      "cell_type": "code",
      "source": [
        "plt.plot(model_fit.history['accuracy'])\n",
        "plt.plot(model_fit.history['val_accuracy'])"
      ],
      "metadata": {
        "colab": {
          "base_uri": "https://localhost:8080/",
          "height": 282
        },
        "id": "ad9zVxNh-2-k",
        "outputId": "fe728726-b685-4be8-d87b-7b2eb0f99a49"
      },
      "execution_count": 21,
      "outputs": [
        {
          "output_type": "execute_result",
          "data": {
            "text/plain": [
              "[<matplotlib.lines.Line2D at 0x7faca6445130>]"
            ]
          },
          "metadata": {},
          "execution_count": 21
        },
        {
          "output_type": "display_data",
          "data": {
            "text/plain": [
              "<Figure size 432x288 with 1 Axes>"
            ],
            "image/png": "[encoded data removed]"
          },
          "metadata": {
            "needs_background": "light"
          }
        }
      ]
    },
    {
      "cell_type": "markdown",
      "source": [
        "# Predicting Results"
      ],
      "metadata": {
        "id": "qD9xvk4eDDxT"
      }
    },
    {
      "cell_type": "code",
      "source": [
        "plt.imshow(X_test[1])\n",
        "print(\"The prediction is : \",model.predict(X_test[1].reshape(1,28,28)).argmax(axis=1))"
      ],
      "metadata": {
        "colab": {
          "base_uri": "https://localhost:8080/",
          "height": 300
        },
        "id": "cgeOQkBU-4vP",
        "outputId": "82c954c6-6d90-4496-e3d0-95f5695639c2"
      },
      "execution_count": 29,
      "outputs": [
        {
          "output_type": "stream",
          "name": "stdout",
          "text": [
            "1/1 [==============================] - 0s 51ms/step\n",
            "The prediction is :  [2]\n"
          ]
        },
        {
          "output_type": "display_data",
          "data": {
            "text/plain": [
              "<Figure size 432x288 with 1 Axes>"
            ],
            "image/png": "[encoded data removed]"
          },
          "metadata": {
            "needs_background": "light"
          }
        }
      ]
    },
    {
      "cell_type": "code",
      "source": [
        "plt.imshow(X_test[2])\n",
        "print(\"The prediction is : \",model.predict(X_test[2].reshape(1,28,28)).argmax(axis=1))"
      ],
      "metadata": {
        "colab": {
          "base_uri": "https://localhost:8080/",
          "height": 300
        },
        "id": "rU3vp_1q_HKn",
        "outputId": "c19d0df9-1726-4ea7-b8b6-4bac880ca98f"
      },
      "execution_count": 30,
      "outputs": [
        {
          "output_type": "stream",
          "name": "stdout",
          "text": [
            "1/1 [==============================] - 0s 25ms/step\n",
            "The prediction is :  [1]\n"
          ]
        },
        {
          "output_type": "display_data",
          "data": {
            "text/plain": [
              "<Figure size 432x288 with 1 Axes>"
            ],
            "image/png": "[encoded data removed]"
          },
          "metadata": {
            "needs_background": "light"
          }
        }
      ]
    },
    {
      "cell_type": "code",
      "source": [
        "plt.imshow(X_test[3])\n",
        "print(\"The prediction is : \",model.predict(X_test[3].reshape(1,28,28)).argmax(axis=1))"
      ],
      "metadata": {
        "colab": {
          "base_uri": "https://localhost:8080/",
          "height": 300
        },
        "id": "50eBFlOH_JFf",
        "outputId": "7f71a367-cd74-4067-a1e9-c01b24994969"
      },
      "execution_count": 31,
      "outputs": [
        {
          "output_type": "stream",
          "name": "stdout",
          "text": [
            "1/1 [==============================] - 0s 23ms/step\n",
            "The prediction is :  [0]\n"
          ]
        },
        {
          "output_type": "display_data",
          "data": {
            "text/plain": [
              "<Figure size 432x288 with 1 Axes>"
            ],
            "image/png": "[encoded data removed]"
          },
          "metadata": {
            "needs_background": "light"
          }
        }
      ]
    },
    {
      "cell_type": "code",
      "source": [
        "plt.imshow(X_test[4])\n",
        "print(\"The prediction is : \",model.predict(X_test[4].reshape(1,28,28)).argmax(axis=1))"
      ],
      "metadata": {
        "colab": {
          "base_uri": "https://localhost:8080/",
          "height": 300
        },
        "id": "h4z6jCRqA0l3",
        "outputId": "ef1ac77e-8151-46b0-8f42-130d60296451"
      },
      "execution_count": 32,
      "outputs": [
        {
          "output_type": "stream",
          "name": "stdout",
          "text": [
            "1/1 [==============================] - 0s 71ms/step\n",
            "The prediction is :  [4]\n"
          ]
        },
        {
          "output_type": "display_data",
          "data": {
            "text/plain": [
              "<Figure size 432x288 with 1 Axes>"
            ],
            "image/png": "[encoded data removed]"
          },
          "metadata": {
            "needs_background": "light"
          }
        }
      ]
    },
    {
      "cell_type": "code",
      "source": [
        "plt.imshow(X_test[5])\n",
        "print(\"The prediction is : \",model.predict(X_test[5].reshape(1,28,28)).argmax(axis=1))"
      ],
      "metadata": {
        "colab": {
          "base_uri": "https://localhost:8080/",
          "height": 300
        },
        "id": "PryOE8xQDVj9",
        "outputId": "99519ba2-4a76-438b-b9f8-b718f4c63e62"
      },
      "execution_count": 33,
      "outputs": [
        {
          "output_type": "stream",
          "name": "stdout",
          "text": [
            "1/1 [==============================] - 0s 34ms/step\n",
            "The prediction is :  [1]\n"
          ]
        },
        {
          "output_type": "display_data",
          "data": {
            "text/plain": [
              "<Figure size 432x288 with 1 Axes>"
            ],
            "image/png": "[encoded data removed]"
          },
          "metadata": {
            "needs_background": "light"
          }
        }
      ]
    }
  ]
}